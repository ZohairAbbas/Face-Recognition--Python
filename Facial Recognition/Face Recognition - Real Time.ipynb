{
 "cells": [
  {
   "cell_type": "code",
   "execution_count": 1,
   "id": "e9339613",
   "metadata": {},
   "outputs": [],
   "source": [
    "import cv2\n",
    "import numpy as np\n",
    "import face_recognition"
   ]
  },
  {
   "cell_type": "markdown",
   "id": "71b668ba",
   "metadata": {},
   "source": [
    "Step 1 from the previous notebook"
   ]
  },
  {
   "cell_type": "code",
   "execution_count": 2,
   "id": "e20213c7",
   "metadata": {},
   "outputs": [],
   "source": [
    "img_bill_gates = face_recognition.load_image_file(\"Images Basic/bill_gates_1.jpg\")\n",
    "img_bill_gates = cv2.cvtColor(img_bill_gates, cv2.COLOR_BGR2RGB)"
   ]
  },
  {
   "cell_type": "markdown",
   "id": "98cec691",
   "metadata": {},
   "source": [
    "The problem over here is that everytime we want to add new faces, we would have to change the names manually and then find it's encoding which would be quite messy. **Solution**: We will create a list which will get all the images from the folder and will find encodings accordingly."
   ]
  },
  {
   "cell_type": "code",
   "execution_count": 3,
   "id": "730c93af",
   "metadata": {},
   "outputs": [],
   "source": [
    "import os"
   ]
  },
  {
   "cell_type": "markdown",
   "id": "b4c4edc8",
   "metadata": {},
   "source": [
    "OS module helps us to interact with the files"
   ]
  },
  {
   "cell_type": "code",
   "execution_count": 10,
   "id": "4d28b826",
   "metadata": {},
   "outputs": [
    {
     "name": "stdout",
     "output_type": "stream",
     "text": [
      "['bill_gates.jpg', 'elon_musk.jpg', 'jeff_bezos.jpg']\n"
     ]
    }
   ],
   "source": [
    "# Images folder\n",
    "path = \"Images\"\n",
    "\n",
    "# Array of images\n",
    "images = []\n",
    "\n",
    "# Names for images\n",
    "imagesNames = []\n",
    "\n",
    "myList = os.listdir(path)\n",
    "print(myList)"
   ]
  },
  {
   "cell_type": "markdown",
   "id": "a8e26c40",
   "metadata": {},
   "source": [
    "### Step 1: Read All Images"
   ]
  },
  {
   "cell_type": "code",
   "execution_count": 11,
   "id": "e696a141",
   "metadata": {},
   "outputs": [
    {
     "name": "stdout",
     "output_type": "stream",
     "text": [
      "['bill_gates', 'elon_musk', 'jeff_bezos']\n"
     ]
    }
   ],
   "source": [
    "# reading all images\n",
    "for img in myList:\n",
    "    new_image = cv2.imread(path+\"/\"+img)\n",
    "    images.append(new_image)\n",
    "    imagesNames.append(os.path.splitext(img)[0])\n",
    "    \n",
    "print(imagesNames)"
   ]
  },
  {
   "cell_type": "markdown",
   "id": "bfe25fb4",
   "metadata": {},
   "source": [
    "### Step 2: Finding Encodings"
   ]
  },
  {
   "cell_type": "code",
   "execution_count": 12,
   "id": "595fd3ef",
   "metadata": {},
   "outputs": [
    {
     "name": "stdout",
     "output_type": "stream",
     "text": [
      "3\n"
     ]
    }
   ],
   "source": [
    "# function to find the encodings for the images\n",
    "\n",
    "def findEncodings(images):\n",
    "    encodeList = []\n",
    "    for img in images:\n",
    "        img = cv2.cvtColor(img, cv2.COLOR_BGR2RGB)\n",
    "        encode = face_recognition.face_encodings(img)[0]\n",
    "        encodeList.append(encode)\n",
    "    return encodeList\n",
    "\n",
    "knownEncodings = findEncodings(images)\n",
    "print(len(knownEncodings))"
   ]
  },
  {
   "cell_type": "markdown",
   "id": "e055aa31",
   "metadata": {},
   "source": [
    "### Step 3: Finding Matches"
   ]
  },
  {
   "cell_type": "markdown",
   "id": "f0eeb320",
   "metadata": {},
   "source": [
    "Since, here we don't have any picture to match with, we will initialize the webcam first to take the pictures and then will move on to the face matching part."
   ]
  },
  {
   "cell_type": "markdown",
   "id": "b9ca3f69",
   "metadata": {},
   "source": [
    "We will iterate through all the faces in a current frame and then will match with all the known encodings."
   ]
  },
  {
   "cell_type": "code",
   "execution_count": 9,
   "id": "74ffcf70",
   "metadata": {},
   "outputs": [],
   "source": [
    "# initializing webcam\n",
    "\n",
    "cap = cv2.VideoCapture(0)\n",
    " \n",
    "while True:\n",
    "    success, img = cap.read()\n",
    "    imgS = cv2.resize(img,(0,0),None,0.25,0.25)\n",
    "    imgS = cv2.cvtColor(imgS, cv2.COLOR_BGR2RGB)\n",
    "    # since we can have multiple faces\n",
    "    facesCurrFrame = face_recognition.face_locations(imgS)\n",
    "    encodeCurrFrame = face_recognition.face_encodings(imgS, facesCurrFrame)\n",
    "    \n",
    "    for encodeFace,faceLoc in zip(encodeCurrFrame,facesCurrFrame):\n",
    "        matches = face_recognition.compare_faces(knownEncodings,encodeFace)\n",
    "        faceDis = face_recognition.face_distance(knownEncodings,encodeFace)\n",
    "#         print(faceDis)\n",
    "        matchIndex = np.argmin(faceDis)\n",
    "        \n",
    "        if matches[matchIndex]:\n",
    "            name = imagesNames[matchIndex].upper()\n",
    "#             print(name)\n",
    "            y1,x2,y2,x1 = faceLoc\n",
    "            y1, x2, y2, x1 = y1*4,x2*4,y2*4,x1*4\n",
    "            cv2.rectangle(img,(x1,y1),(x2,y2),(0,255,0),2)\n",
    "            cv2.rectangle(img,(x1,y2-35),(x2,y2),(0,255,0),cv2.FILLED)\n",
    "            cv2.putText(img,name,(x1+6,y2-6),cv2.FONT_HERSHEY_COMPLEX,1,(255,255,255),2)\n",
    "            \n",
    "    cv2.imshow('Webcam',img)\n",
    "    k = cv2.waitKey(1)  & 0xFF\n",
    "\n",
    "    # press q to quit\n",
    "    if k == ord('q'):  \n",
    "        break\n",
    "        \n",
    "cap.release()          \n",
    "cv2.destroyAllWindows() "
   ]
  },
  {
   "cell_type": "code",
   "execution_count": 23,
   "id": "569ac5ad",
   "metadata": {},
   "outputs": [],
   "source": []
  },
  {
   "cell_type": "code",
   "execution_count": null,
   "id": "5345baf6",
   "metadata": {},
   "outputs": [],
   "source": []
  }
 ],
 "metadata": {
  "kernelspec": {
   "display_name": "Python 3 (ipykernel)",
   "language": "python",
   "name": "python3"
  },
  "language_info": {
   "codemirror_mode": {
    "name": "ipython",
    "version": 3
   },
   "file_extension": ".py",
   "mimetype": "text/x-python",
   "name": "python",
   "nbconvert_exporter": "python",
   "pygments_lexer": "ipython3",
   "version": "3.8.11"
  }
 },
 "nbformat": 4,
 "nbformat_minor": 5
}
