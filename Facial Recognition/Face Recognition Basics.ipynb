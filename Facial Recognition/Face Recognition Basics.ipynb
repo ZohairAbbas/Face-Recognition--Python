{
 "cells": [
  {
   "cell_type": "markdown",
   "id": "595adc7b",
   "metadata": {},
   "source": [
    "## Installations"
   ]
  },
  {
   "cell_type": "code",
   "execution_count": 1,
   "id": "f41e1671",
   "metadata": {},
   "outputs": [],
   "source": [
    "#pip install cmake\n",
    "#conda install -c conda-forge dlib\n",
    "#pip install face_recognition"
   ]
  },
  {
   "cell_type": "markdown",
   "id": "613da123",
   "metadata": {},
   "source": [
    "## Imports"
   ]
  },
  {
   "cell_type": "code",
   "execution_count": 1,
   "id": "8cc68523",
   "metadata": {},
   "outputs": [],
   "source": [
    "import cv2\n",
    "import numpy as np\n",
    "import face_recognition"
   ]
  },
  {
   "cell_type": "markdown",
   "id": "7fdb8904",
   "metadata": {},
   "source": [
    "<center><h2>Face Recognition With Images</h2></center>"
   ]
  },
  {
   "cell_type": "code",
   "execution_count": 2,
   "id": "b4a3d30b",
   "metadata": {},
   "outputs": [],
   "source": [
    "# reading an image of Bill Gates\n",
    "img_bill_gates = face_recognition.load_image_file(\"Images Basic/bill_gates_1.jpg\")\n",
    "\n",
    "# converting BGR image to RGB\n",
    "# BGR image: https://res.cloudinary.com/dyd911kmh/image/upload/f_auto,q_auto:best/v1545248697/9_uaur3c.png\n",
    "img_bill_gates = cv2.cvtColor(img_bill_gates, cv2.COLOR_BGR2RGB)"
   ]
  },
  {
   "cell_type": "code",
   "execution_count": 3,
   "id": "3efc4db8",
   "metadata": {},
   "outputs": [],
   "source": [
    "# reading another image for test\n",
    "img_test = face_recognition.load_image_file(\"Images Basic/bill_gates_2.jpg\") # True Case\n",
    "# img_test = face_recognition.load_image_file(\"Images Basic/elon_musk_1.jpg\") For False Case\n",
    "\n",
    "# converting BGR image to RGB\n",
    "img_test = cv2.cvtColor(img_test, cv2.COLOR_BGR2RGB)"
   ]
  },
  {
   "cell_type": "code",
   "execution_count": 4,
   "id": "dd5c396b",
   "metadata": {},
   "outputs": [
    {
     "data": {
      "text/plain": [
       "array([[[208, 196, 184],\n",
       "        [208, 196, 184],\n",
       "        [208, 196, 184],\n",
       "        ...,\n",
       "        [214, 205, 192],\n",
       "        [213, 205, 192],\n",
       "        [206, 198, 185]],\n",
       "\n",
       "       [[214, 202, 190],\n",
       "        [214, 202, 190],\n",
       "        [214, 202, 190],\n",
       "        ...,\n",
       "        [215, 206, 193],\n",
       "        [213, 205, 192],\n",
       "        [206, 198, 185]],\n",
       "\n",
       "       [[221, 209, 197],\n",
       "        [221, 209, 197],\n",
       "        [221, 209, 197],\n",
       "        ...,\n",
       "        [215, 206, 193],\n",
       "        [213, 205, 192],\n",
       "        [206, 198, 185]],\n",
       "\n",
       "       ...,\n",
       "\n",
       "       [[ 70,  60,  72],\n",
       "        [ 70,  60,  72],\n",
       "        [ 70,  60,  72],\n",
       "        ...,\n",
       "        [ 70,  56,  68],\n",
       "        [ 69,  55,  67],\n",
       "        [ 67,  53,  65]],\n",
       "\n",
       "       [[ 71,  61,  73],\n",
       "        [ 71,  61,  73],\n",
       "        [ 71,  61,  73],\n",
       "        ...,\n",
       "        [ 69,  55,  67],\n",
       "        [ 68,  54,  66],\n",
       "        [ 67,  53,  65]],\n",
       "\n",
       "       [[ 71,  61,  73],\n",
       "        [ 71,  61,  73],\n",
       "        [ 71,  61,  73],\n",
       "        ...,\n",
       "        [ 69,  55,  67],\n",
       "        [ 67,  53,  65],\n",
       "        [ 66,  52,  64]]], dtype=uint8)"
      ]
     },
     "execution_count": 4,
     "metadata": {},
     "output_type": "execute_result"
    }
   ],
   "source": [
    "# Detecting the face of Bill Gates\n",
    "faceLoc = face_recognition.face_locations(img_bill_gates)[0]\n",
    "\n",
    "# Encoding the face of Bill Gates\n",
    "encodeBill = face_recognition.face_encodings(img_bill_gates)[0]\n",
    "\n",
    "cv2.rectangle(img_bill_gates,(faceLoc[3],faceLoc[0]),(faceLoc[1],faceLoc[2]),(255,0,255),2)"
   ]
  },
  {
   "cell_type": "code",
   "execution_count": 5,
   "id": "f98f88c9",
   "metadata": {},
   "outputs": [
    {
     "data": {
      "text/plain": [
       "array([[[159, 165, 170],\n",
       "        [159, 165, 170],\n",
       "        [160, 166, 171],\n",
       "        ...,\n",
       "        [214, 214, 220],\n",
       "        [214, 214, 220],\n",
       "        [214, 214, 220]],\n",
       "\n",
       "       [[156, 162, 167],\n",
       "        [156, 162, 167],\n",
       "        [157, 163, 168],\n",
       "        ...,\n",
       "        [214, 214, 220],\n",
       "        [214, 214, 220],\n",
       "        [214, 214, 220]],\n",
       "\n",
       "       [[158, 164, 169],\n",
       "        [158, 164, 169],\n",
       "        [159, 165, 170],\n",
       "        ...,\n",
       "        [214, 214, 220],\n",
       "        [214, 214, 220],\n",
       "        [214, 214, 220]],\n",
       "\n",
       "       ...,\n",
       "\n",
       "       [[ 99, 101, 119],\n",
       "        [ 95,  97, 115],\n",
       "        [ 89,  91, 109],\n",
       "        ...,\n",
       "        [ 75,  77,  95],\n",
       "        [ 76,  78,  96],\n",
       "        [ 73,  75,  93]],\n",
       "\n",
       "       [[ 99, 101, 119],\n",
       "        [ 95,  97, 115],\n",
       "        [ 89,  91, 109],\n",
       "        ...,\n",
       "        [ 75,  77,  95],\n",
       "        [ 76,  78,  96],\n",
       "        [ 73,  75,  93]],\n",
       "\n",
       "       [[ 99, 101, 119],\n",
       "        [ 95,  97, 115],\n",
       "        [ 89,  91, 109],\n",
       "        ...,\n",
       "        [ 75,  77,  95],\n",
       "        [ 76,  78,  96],\n",
       "        [ 73,  75,  93]]], dtype=uint8)"
      ]
     },
     "execution_count": 5,
     "metadata": {},
     "output_type": "execute_result"
    }
   ],
   "source": [
    "# Detecting the other face\n",
    "faceLocTest = face_recognition.face_locations(img_test)[0]\n",
    "\n",
    "# encoding the other face\n",
    "encodeTest = face_recognition.face_encodings(img_test)[0]\n",
    "\n",
    "cv2.rectangle(img_test,(faceLocTest[3],faceLocTest[0]),(faceLocTest[1],faceLocTest[2]),(255,0,255),2)"
   ]
  },
  {
   "cell_type": "code",
   "execution_count": null,
   "id": "18444b90",
   "metadata": {},
   "outputs": [
    {
     "name": "stdout",
     "output_type": "stream",
     "text": [
      "[True] [0.43974082]\n"
     ]
    }
   ],
   "source": [
    "# comparing the bill gates and test faces\n",
    "results = face_recognition.compare_faces([encodeBill],encodeTest)\n",
    "\n",
    "#to find the %age of similarity and dissimilarity in images\n",
    "faceDis = face_recognition.face_distance([encodeBill],encodeTest)\n",
    "\n",
    "# print(results)\n",
    "print(results,faceDis)\n",
    "\n",
    "cv2.putText(img_test,f'{results} {round(faceDis[0],2)}',(20,20),cv2.FONT_HERSHEY_COMPLEX,0.5,(0,0,255),2)\n",
    "\n",
    "cv2.imshow('Bill gates',img_bill_gates)\n",
    "cv2.imshow('Bill Test',img_test)\n",
    "cv2.waitKey(0)"
   ]
  },
  {
   "cell_type": "code",
   "execution_count": null,
   "id": "2aa8d029",
   "metadata": {},
   "outputs": [],
   "source": []
  }
 ],
 "metadata": {
  "kernelspec": {
   "display_name": "Python 3 (ipykernel)",
   "language": "python",
   "name": "python3"
  },
  "language_info": {
   "codemirror_mode": {
    "name": "ipython",
    "version": 3
   },
   "file_extension": ".py",
   "mimetype": "text/x-python",
   "name": "python",
   "nbconvert_exporter": "python",
   "pygments_lexer": "ipython3",
   "version": "3.8.11"
  }
 },
 "nbformat": 4,
 "nbformat_minor": 5
}
